version https://git-lfs.github.com/spec/v1
oid sha256:73a92defa19bba918d10aeff8817fecf2f4d13b39fe3191f2b38b1cc6aee8e0f
size 4109872
